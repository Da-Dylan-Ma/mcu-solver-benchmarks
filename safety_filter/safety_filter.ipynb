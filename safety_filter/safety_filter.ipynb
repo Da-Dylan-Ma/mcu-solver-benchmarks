{
 "cells": [
  {
   "attachments": {},
   "cell_type": "markdown",
   "metadata": {},
   "source": [
    "# Predictve Safety Filter Benchmark"
   ]
  },
  {
   "attachments": {},
   "cell_type": "markdown",
   "metadata": {},
   "source": [
    "Load necessary packages, make sure to install `tinympc` ([README.md](../README.md))"
   ]
  },
  {
   "cell_type": "code",
   "execution_count": 9,
   "metadata": {},
   "outputs": [],
   "source": [
    "import tinympc\n",
    "import os\n",
    "import numpy as np"
   ]
  },
  {
   "cell_type": "code",
   "execution_count": 10,
   "metadata": {},
   "outputs": [
    {
     "name": "stdout",
     "output_type": "stream",
     "text": [
      "/home/khai/SSD/Code/mcu-solver-benchmarks/safety_filter\n"
     ]
    }
   ],
   "source": [
    "path_to_root = os.getcwd()\n",
    "print(path_to_root)"
   ]
  },
  {
   "attachments": {},
   "cell_type": "markdown",
   "metadata": {},
   "source": [
    "## Double Integrator System"
   ]
  },
  {
   "cell_type": "code",
   "execution_count": 11,
   "metadata": {},
   "outputs": [],
   "source": [
    "NSTATES = 6\n",
    "NINPUTS = 3\n",
    "NHORIZON = 30\n",
    "NTOTAL = 201\n",
    "\n",
    "# Double-integrator dynamics\n",
    "h = 0.05 #20 Hz\n",
    "temp_n = int(NSTATES/2)\n",
    "# Adyn = [I(temp_n) h*I(temp_n); zeros(temp_n,temp_n) I(temp_n)]\n",
    "# Bdyn = [0.5*h*h*I(temp_n); h*I(temp_n)];\n",
    "Adyn = np.block([[np.eye(temp_n), h*np.eye(temp_n)], [np.zeros((temp_n,temp_n)), np.eye(temp_n)]])\n",
    "Bdyn = np.block([[0.5*h*h*np.eye(temp_n)], [h*np.eye(temp_n)]])"
   ]
  },
  {
   "attachments": {},
   "cell_type": "markdown",
   "metadata": {},
   "source": [
    "## MPC Formulation for OSQP"
   ]
  },
  {
   "attachments": {},
   "cell_type": "markdown",
   "metadata": {},
   "source": [
    "## Code Generation\n",
    "\n",
    "We are done with the dynamics and LQR controller. Now, let's define the class and compile original TinyMPC code to get a generic shared/dynamic library"
   ]
  },
  {
   "attachments": {},
   "cell_type": "markdown",
   "metadata": {},
   "source": [
    "\n",
    "**PLEASE CHANGE `tinympc_python_dir` TO YOUR ABSOLUTE PATH**"
   ]
  },
  {
   "cell_type": "code",
   "execution_count": 12,
   "metadata": {},
   "outputs": [
    {
     "name": "stderr",
     "output_type": "stream",
     "text": [
      "\u001b[0mCMake Deprecation Warning at CMakeLists.txt:1 (cmake_minimum_required):\n",
      "  Compatibility with CMake < 3.5 will be removed from a future version of\n",
      "  CMake.\n",
      "\n",
      "  Update the VERSION argument <min> value or use a ...<max> suffix to tell\n",
      "  CMake that the project does not need compatibility with older versions.\n",
      "\n",
      "\u001b[0m\n"
     ]
    },
    {
     "name": "stdout",
     "output_type": "stream",
     "text": [
      "-- Configuring done (0.0s)\n",
      "-- Generating done (0.1s)\n",
      "-- Build files have been written to: /home/khai/SSD/Code/mcu-solver-benchmarks/tinympc-python/tinympc/TinyMPC/build\n",
      "[ 18%] Built target tinympc\n",
      "[ 37%] Built target tinympcShared\n",
      "[ 50%] Built target quadrotor_tracking\n",
      "[ 62%] Built target quadrotor_hovering\n",
      "[ 75%] Built target codegen_random\n",
      "[ 87%] Built target codegen_cartpole\n",
      "[100%] Built target test1\n"
     ]
    },
    {
     "data": {
      "text/plain": [
       "True"
      ]
     },
     "execution_count": 12,
     "metadata": {},
     "output_type": "execute_result"
    }
   ],
   "source": [
    "tinympc_python_dir = path_to_root + \"/../tinympc-python\"  # Your absolute path to the tinympc-python directory\n",
    "tinympc_dir = tinympc_python_dir + \"/tinympc/TinyMPC\"  # Path to the TinyMPC directory (C code)\n",
    "\n",
    "prob = tinympc.TinyMPC()\n",
    "prob.compile_lib(tinympc_dir)  # Compile the library (or use the binary provided)"
   ]
  },
  {
   "cell_type": "code",
   "execution_count": 13,
   "metadata": {},
   "outputs": [],
   "source": [
    "os_ext = \".so\"  # CHANGE THIS BASED ON YOUR OS\n",
    "lib_dir = tinympc_dir + \"/build/src/tinympc/libtinympcShared\" + os_ext  # Path to the compiled library\n",
    "prob.load_lib(lib_dir)  # Load the library"
   ]
  },
  {
   "attachments": {},
   "cell_type": "markdown",
   "metadata": {},
   "source": [
    "## We generate a bunch of benchmark here with varying dimensions"
   ]
  },
  {
   "attachments": {},
   "cell_type": "markdown",
   "metadata": {},
   "source": [
    "Here we setup problem data and settings for the predictive safety filter with TinyMPC. We will put bounds on the state and input."
   ]
  },
  {
   "cell_type": "code",
   "execution_count": 14,
   "metadata": {},
   "outputs": [
    {
     "data": {
      "text/plain": [
       "True"
      ]
     },
     "execution_count": 14,
     "metadata": {},
     "output_type": "execute_result"
    }
   ],
   "source": [
    "A = Adyn.transpose().reshape((NSTATES * NSTATES)).tolist() # col-major order list\n",
    "B = Bdyn.transpose().reshape((NSTATES * NINPUTS)).tolist() # col-major order list\n",
    "Q = np.zeros(NSTATES).tolist()  # diagonal of state cost -- DON'T NEED FOR SAFETY FILTER\n",
    "R = np.ones(NINPUTS).tolist()  # diagonal of input cost\n",
    "rho = 1e2  # ADMM penalty parameter\n",
    "\n",
    "x_min = [-1.0] * NSTATES * NHORIZON           # state constraints \n",
    "x_max = [1.] * NSTATES * NHORIZON             # state constraints\n",
    "u_min = [-3] * NINPUTS * (NHORIZON - 1)      # input constraints\n",
    "u_max = [3] * NINPUTS * (NHORIZON - 1)   # input constraints\n",
    "\n",
    "abs_pri_tol = 1.0e-3    # absolute primal tolerance\n",
    "abs_dual_tol = 1.0e-3   # absolute dual tolerance\n",
    "max_iter = 100          # maximum number of iterations\n",
    "check_termination = 1   # whether to check termination and period\n",
    "\n",
    "# Setup problem data\n",
    "prob.setup(NSTATES, NINPUTS, NHORIZON, A, B, Q, R, x_min, x_max, u_min, u_max, rho, abs_pri_tol, abs_dual_tol, max_iter, check_termination)"
   ]
  },
  {
   "attachments": {},
   "cell_type": "markdown",
   "metadata": {},
   "source": [
    "Load the generic shared/dynamic library. **You may want to change the extension of the library based on your OS -- Linux: .so, Mac: .dylib, Windows: .dll**"
   ]
  },
  {
   "attachments": {},
   "cell_type": "markdown",
   "metadata": {},
   "source": [
    "After define the problem, we generate the tailored code with above data. \n",
    "\n",
    "**Here we compile it for interactive Python script but you can use it directly for your applications/systems**"
   ]
  },
  {
   "cell_type": "code",
   "execution_count": 15,
   "metadata": {},
   "outputs": [
    {
     "name": "stdout",
     "output_type": "stream",
     "text": [
      "A = [   1,    0,    0, 0.05,    0,    0]\n",
      "[   0,    1,    0,    0, 0.05,    0]\n",
      "[   0,    0,    1,    0,    0, 0.05]\n",
      "[   0,    0,    0,    1,    0,    0]\n",
      "[   0,    0,    0,    0,    1,    0]\n",
      "[   0,    0,    0,    0,    0,    1]\n",
      "B = [0.00125,       0,       0]\n",
      "[      0, 0.00125,       0]\n",
      "[      0,       0, 0.00125]\n",
      "[   0.05,       0,       0]\n",
      "[      0,    0.05,       0]\n",
      "[      0,       0,    0.05]\n",
      "Q = [100,   0,   0,   0,   0,   0]\n",
      "[  0, 100,   0,   0,   0,   0]\n",
      "[  0,   0, 100,   0,   0,   0]\n",
      "[  0,   0,   0, 100,   0,   0]\n",
      "[  0,   0,   0,   0, 100,   0]\n",
      "[  0,   0,   0,   0,   0, 100]\n",
      "R = [101,   0,   0]\n",
      "[  0, 101,   0]\n",
      "[  0,   0, 101]\n",
      "rho = 100\n",
      "Kinf converged after 128 iterations\n",
      "Precomputing finished\n",
      "Kinf = [0.9529,      0,      0,  1.677,      0,      0]\n",
      "[     0, 0.9529,      0,      0,  1.677,      0]\n",
      "[     0,      0, 0.9529,      0,      0,  1.677]\n",
      "Pinf = [3520,    0,    0, 2010,    0,    0]\n",
      "[   0, 3520,    0,    0, 2010,    0]\n",
      "[   0,    0, 3520,    0,    0, 2010]\n",
      "[2010,    0,    0, 3539,    0,    0]\n",
      "[   0, 2010,    0,    0, 3539,    0]\n",
      "[   0,    0, 2010,    0,    0, 3539]\n",
      "Quu_inv = [0.009082,        0,        0]\n",
      "[       0, 0.009082,        0]\n",
      "[       0,        0, 0.009082]\n",
      "AmBKt = [  0.9988,        0,        0, -0.04765,        0,        0]\n",
      "[       0,   0.9988,        0,        0, -0.04765,        0]\n",
      "[       0,        0,   0.9988,        0,        0, -0.04765]\n",
      "[  0.0479,        0,        0,   0.9161,        0,        0]\n",
      "[       0,   0.0479,        0,        0,   0.9161,        0]\n",
      "[       0,        0,   0.0479,        0,        0,   0.9161]\n",
      "coeff_d2p = [ -0.000807,          0,          0]\n",
      "[         0,  -0.000807,          0]\n",
      "[         0,          0,  -0.000807]\n",
      "[-0.0009398,          0,          0]\n",
      "[         0, -0.0009398,          0]\n",
      "[         0,          0, -0.0009398]\n",
      "Data generated in /home/khai/SSD/Code/mcu-solver-benchmarks/safety_filter/tinympc_generated/src/tiny_data_workspace.cpp\n",
      "Global options generated in /home/khai/SSD/Code/mcu-solver-benchmarks/safety_filter/tinympc_generated/tinympc/glob_opts.hpp\n",
      "Example tinympc main generated in /home/khai/SSD/Code/mcu-solver-benchmarks/safety_filter/tinympc_generated/src/tiny_main.cpp\n",
      "Data header generated in /home/khai/SSD/Code/mcu-solver-benchmarks/safety_filter/tinympc_generated/tinympc/tiny_data_workspace.hpp\n",
      "Content of include folder copied from /home/khai/SSD/Code/mcu-solver-benchmarks/safety_filter/../tinympc-python/tinympc/TinyMPC/include to /home/khai/SSD/Code/mcu-solver-benchmarks/safety_filter/tinympc_generated/include\n",
      "Content of /home/khai/SSD/Code/mcu-solver-benchmarks/safety_filter/../tinympc-python/tinympc/TinyMPC/src/tinympc/admm.hpp copied to /home/khai/SSD/Code/mcu-solver-benchmarks/safety_filter/tinympc_generated/tinympc/admm.hpp\n",
      "Content of /home/khai/SSD/Code/mcu-solver-benchmarks/safety_filter/../tinympc-python/tinympc/TinyMPC/src/tinympc/admm.cpp copied to /home/khai/SSD/Code/mcu-solver-benchmarks/safety_filter/tinympc_generated/tinympc/admm.cpp\n",
      "Content of /home/khai/SSD/Code/mcu-solver-benchmarks/safety_filter/../tinympc-python/tinympc/TinyMPC/src/tinympc/types.hpp copied to /home/khai/SSD/Code/mcu-solver-benchmarks/safety_filter/tinympc_generated/tinympc/types.hpp\n",
      "Content of /home/khai/SSD/Code/mcu-solver-benchmarks/safety_filter/../tinympc-python/tinympc/TinyMPC/src/tinympc/tiny_wrapper.hpp copied to /home/khai/SSD/Code/mcu-solver-benchmarks/safety_filter/tinympc_generated/tinympc/tiny_wrapper.hpp\n",
      "Content of /home/khai/SSD/Code/mcu-solver-benchmarks/safety_filter/../tinympc-python/tinympc/TinyMPC/src/tinympc/tiny_wrapper.cpp copied to /home/khai/SSD/Code/mcu-solver-benchmarks/safety_filter/tinympc_generated/tinympc/tiny_wrapper.cpp\n",
      "-- Configuring done (0.0s)\n",
      "-- Generating done (0.1s)\n",
      "-- Build files have been written to: /home/khai/SSD/Code/mcu-solver-benchmarks/safety_filter/tinympc_generated/build\n"
     ]
    },
    {
     "name": "stderr",
     "output_type": "stream",
     "text": [
      "\u001b[0mCMake Deprecation Warning at CMakeLists.txt:5 (cmake_minimum_required):\n",
      "  Compatibility with CMake < 3.5 will be removed from a future version of\n",
      "  CMake.\n",
      "\n",
      "  Update the VERSION argument <min> value or use a ...<max> suffix to tell\n",
      "  CMake that the project does not need compatibility with older versions.\n",
      "\n",
      "\u001b[0m\n"
     ]
    },
    {
     "name": "stdout",
     "output_type": "stream",
     "text": [
      "[ 11%] \u001b[32mBuilding CXX object tinympc/CMakeFiles/tinympc.dir/admm.cpp.o\u001b[0m\n",
      "[ 22%] \u001b[32m\u001b[1mLinking CXX static library libtinympc.a\u001b[0m\n",
      "[ 22%] Built target tinympc\n",
      "[ 33%] \u001b[32mBuilding CXX object tinympc/CMakeFiles/tinympcShared.dir/admm.cpp.o\u001b[0m\n",
      "[ 44%] \u001b[32mBuilding CXX object tinympc/CMakeFiles/tinympcShared.dir/tiny_wrapper.cpp.o\u001b[0m\n",
      "[ 55%] \u001b[32mBuilding CXX object tinympc/CMakeFiles/tinympcShared.dir/__/src/tiny_data_workspace.cpp.o\u001b[0m\n",
      "[ 66%] \u001b[32m\u001b[1mLinking CXX shared library libtinympcShared.so\u001b[0m\n",
      "[ 66%] Built target tinympcShared\n",
      "[ 77%] \u001b[32mBuilding CXX object src/CMakeFiles/tiny_main.dir/tiny_main.cpp.o\u001b[0m\n",
      "[ 88%] \u001b[32mBuilding CXX object src/CMakeFiles/tiny_main.dir/tiny_data_workspace.cpp.o\u001b[0m\n",
      "[100%] \u001b[32m\u001b[1mLinking CXX executable tiny_main\u001b[0m\n",
      "[100%] Built target tiny_main\n"
     ]
    },
    {
     "data": {
      "text/plain": [
       "True"
      ]
     },
     "execution_count": 15,
     "metadata": {},
     "output_type": "execute_result"
    }
   ],
   "source": [
    "output_dir = path_to_root + \"/tinympc_generated\"  # Path to the generated code\n",
    "prob.tiny_codegen(tinympc_dir, output_dir)  \n",
    "# You may want to check if Kinf in generated_code follows the same pattern as previous K in LQR, otherwise something is wrong\n",
    "prob.compile_lib(output_dir)"
   ]
  },
  {
   "attachments": {},
   "cell_type": "markdown",
   "metadata": {},
   "source": [
    "## We then copy generated workspace from `tinympc_generated` to `teensy_tinympc` dir for each benchmark."
   ]
  },
  {
   "cell_type": "code",
   "execution_count": 29,
   "metadata": {},
   "outputs": [
    {
     "name": "stdout",
     "output_type": "stream",
     "text": [
      "-----------------------------------------------------------------\n",
      "           OSQP v1.0.0.beta0  -  Operator Splitting QP Solver\n",
      "              (c) Bartolomeo Stellato,  Goran Banjac\n",
      "        University of Oxford  -  Stanford University 2021\n",
      "-----------------------------------------------------------------\n",
      "problem:  variables n = 267, constraints m = 447\n",
      "          nnz(P) + nnz(A) = 1056\n",
      "settings: algebra = Built-in,\n",
      "          linear system solver = QDLDL v0.1.6,\n",
      "          eps_abs = 1.0e-03, eps_rel = 1.0e-03,\n",
      "          eps_prim_inf = 1.0e-04, eps_dual_inf = 1.0e-04,\n",
      "          rho = 1.00e+02 ,\n",
      "          sigma = 1.00e-06, alpha = 1.00, max_iter = 100\n",
      "          check_termination: on (interval 1),\n",
      "          time_limit: 1.00e+10 sec,\n",
      "          scaling: off, scaled_termination: off\n",
      "          warm starting: on, polishing: off, \n",
      "iter   objective    prim res   dual res   rho        time\n",
      "   1  -1.0297e+05   1.12e+00   5.00e+04   1.00e+02   4.44e-04s\n",
      " 100  -2.1723e+04   1.65e-01   2.55e-01   1.00e+02   2.25e-03s\n",
      "\n",
      "status:               maximum iterations reached\n",
      "number of iterations: 100\n",
      "run time:             2.29e-03s\n",
      "optimal rho estimate: 1.81e+03\n",
      "\n",
      "[ 0.49987827  0.49987827  0.49987827  0.4998936   0.4998936   0.4998936\n",
      "  0.52355956  0.52355956  0.52355956  0.45212668  0.45212668  0.45212668\n",
      "  0.54497373  0.54497373  0.54497373  0.40921489  0.40921489  0.40921489\n",
      "  0.56436353  0.56436353  0.56436353  0.37115817  0.37115817  0.37115817\n",
      "  0.58197172  0.58197172  0.58197172  0.33795645  0.33795645  0.33795645\n",
      "  0.59804104  0.59804104  0.59804104  0.3096097   0.3096097   0.3096097\n",
      "  0.61281424  0.61281424  0.61281424  0.28611785  0.28611785  0.28611785\n",
      "  0.62653407  0.62653407  0.62653407  0.26748088  0.26748088  0.26748088\n",
      "  0.63944328  0.63944328  0.63944328  0.25369874  0.25369874  0.25369874\n",
      "  0.65178459  0.65178459  0.65178459  0.2447714   0.2447714   0.2447714\n",
      "  0.66380077  0.66380077  0.66380077  0.24069883  0.24069883  0.24069883\n",
      "  0.67573453  0.67573453  0.67573453  0.24148101  0.24148101  0.24148101\n",
      "  0.68782863  0.68782863  0.68782863  0.24711793  0.24711793  0.24711793\n",
      "  0.7003258   0.7003258   0.7003258   0.25760956  0.25760956  0.25760956\n",
      "  0.71346878  0.71346878  0.71346878  0.2729559   0.2729559   0.2729559\n",
      "  0.7275003   0.7275003   0.7275003   0.29315695  0.29315695  0.29315695\n",
      "  0.74266311  0.74266311  0.74266311  0.31821271  0.31821271  0.31821271\n",
      "  0.75919995  0.75919995  0.75919995  0.34812319  0.34812319  0.34812319\n",
      "  0.77735355  0.77735355  0.77735355  0.3828884   0.3828884   0.3828884\n",
      "  0.79736666  0.79736666  0.79736666  0.42250837  0.42250837  0.42250837\n",
      "  0.81948201  0.81948201  0.81948201  0.4669831   0.4669831   0.4669831\n",
      "  0.84394235  0.84394235  0.84394235  0.51631264  0.51631264  0.51631264\n",
      "  0.87099042  0.87099042  0.87099042  0.57049701  0.57049701  0.57049701\n",
      "  0.90086897  0.90086897  0.90086897  0.62953625  0.62953625  0.62953625\n",
      "  0.93372038  0.93372038  0.93372038  0.69338728  0.69338728  0.69338728\n",
      "  0.96981353  0.96981353  0.96981353  0.76187197  0.76187197  0.76187197\n",
      "  1.00940723  1.00940723  1.00940723  0.83463233  0.83463233  0.83463233\n",
      "  1.05284396  1.05284396  1.05284396  0.91506726  0.91506726  0.91506726\n",
      "  1.10072509  1.10072509  1.10072509  1.01022213  1.01022213  1.01022213\n",
      "  1.15403303  1.15403303  1.15403303  1.12812882  1.12812882  1.12812882\n",
      " -0.95333189 -0.95333189 -0.95333189 -0.85635122 -0.85635122 -0.85635122\n",
      " -0.75937184 -0.75937184 -0.75937184 -0.66239368 -0.66239368 -0.66239368\n",
      " -0.56541664 -0.56541664 -0.56541664 -0.46844064 -0.46844064 -0.46844064\n",
      " -0.37146557 -0.37146557 -0.37146557 -0.27449135 -0.27449135 -0.27449135\n",
      " -0.17751787 -0.17751787 -0.17751787 -0.08054503 -0.08054503 -0.08054503\n",
      "  0.01642728  0.01642728  0.01642728  0.11339915  0.11339915  0.11339915\n",
      "  0.2103707   0.2103707   0.2103707   0.30734203  0.30734203  0.30734203\n",
      "  0.40431325  0.40431325  0.40431325  0.50128447  0.50128447  0.50128447\n",
      "  0.5982558   0.5982558   0.5982558   0.69522735  0.69522735  0.69522735\n",
      "  0.79219923  0.79219923  0.79219923  0.88917155  0.88917155  0.88917155\n",
      "  0.98614442  0.98614442  0.98614442  1.08311795  1.08311795  1.08311795\n",
      "  1.18009225  1.18009225  1.18009225  1.27610559  1.27610559  1.27610559\n",
      "  1.36848998  1.36848998  1.36848998  1.45368459  1.45368459  1.45368459\n",
      "  1.61017578  1.61017578  1.61017578  1.9060185   1.9060185   1.9060185\n",
      "  2.3606963   2.3606963   2.3606963 ]\n"
     ]
    }
   ],
   "source": [
    "import osqp\n",
    "from scipy import sparse\n",
    "\n",
    "Ad = sparse.csc_matrix(Adyn)\n",
    "Bd = sparse.csc_matrix(Bdyn)\n",
    "\n",
    "x0 = np.ones(NSTATES)*0.5\n",
    "\n",
    "Xref = np.zeros((NSTATES, NTOTAL))\n",
    "for k in range(NTOTAL):\n",
    "    Xref[0:3,k] = np.sin(1*k)*2*np.ones(temp_n)\n",
    "Uref = np.ones((NINPUTS, NTOTAL-1))*3\n",
    "\n",
    "Qnp = np.zeros((NSTATES, NSTATES))\n",
    "Rnp = 1e2*np.ones((NINPUTS, NINPUTS))\n",
    "\n",
    "# Cast MPC problem to a QP: x = (x(0),x(1),...,x(N),u(0),...,u(N-1))\n",
    "# - quadratic objective\n",
    "P = sparse.block_diag([sparse.kron(sparse.eye(NHORIZON), Qnp),\n",
    "                       sparse.kron(sparse.eye(NHORIZON-1), Rnp)], format='csc')\n",
    "# - linear objective\n",
    "q = np.hstack([np.zeros((NHORIZON)*NSTATES), np.hstack([-Rnp@Uref[:,i] for i in range(NHORIZON-1)])])\n",
    "# - linear dynamics\n",
    "Ax = sparse.kron(sparse.eye(NHORIZON),-sparse.eye(NSTATES)) + sparse.kron(sparse.eye(NHORIZON, k=-1), Ad)\n",
    "Bu = sparse.kron(sparse.vstack([sparse.csc_matrix((1, NHORIZON-1)), sparse.eye(NHORIZON-1)]), Bd)\n",
    "Aeq = sparse.hstack([Ax, Bu])\n",
    "leq = np.hstack([-x0, np.zeros((NHORIZON-1)*NSTATES)])\n",
    "ueq = leq\n",
    "\n",
    "# - input and state constraints\n",
    "xmin = x_min[0:NSTATES]\n",
    "xmax = x_max[0:NSTATES]\n",
    "umin = u_min[0:NINPUTS]\n",
    "umax = u_max[0:NINPUTS]\n",
    "Aineq = sparse.eye((NHORIZON)*NSTATES + (NHORIZON-1)*NINPUTS)\n",
    "lineq = np.hstack([np.kron(np.ones(NHORIZON), xmin), np.kron(np.ones(NHORIZON-1), umin)])\n",
    "uineq = np.hstack([np.kron(np.ones(NHORIZON), xmax), np.kron(np.ones(NHORIZON-1), umax)])\n",
    "# - OSQP constraints\n",
    "A = sparse.vstack([Aeq, Aineq], format='csc')\n",
    "l = np.hstack([leq, lineq])\n",
    "u = np.hstack([ueq, uineq])\n",
    "\n",
    "# Create an OSQP object\n",
    "prob = osqp.OSQP()\n",
    "\n",
    "# Setup workspace and change alpha parameter\n",
    "prob.setup(P, q, A, l, u, alpha=1.0, scaling=0, check_termination=check_termination, eps_abs=abs_pri_tol, eps_rel=1e-3, eps_prim_inf=1e-4, eps_dual_inf=1e-4, max_iter=max_iter, polish=False, rho=rho, adaptive_rho=False, warm_start=True)\n",
    "# prob.setup(P, q, A, l, u, warm_starting=True, polish=True)\n",
    "\n",
    "res = prob.solve()\n",
    "print(res.x)\n",
    "\n",
    "# Generate C code\n",
    "# fmt: off\n",
    "# prob.codegen(\n",
    "#     path_to_root+'/osqp_generated',   # Output folder for auto-generated code\n",
    "#     prefix='osqp_data_',         # Prefix for filenames and C variables; useful if generating multiple problems\n",
    "#     force_rewrite=True,        # Force rewrite if output folder exists?\n",
    "#     parameters='vectors',      # What do we wish to update in the generated code?\n",
    "#                                 # One of 'vectors' (allowing update of q/l/u through prob.update_data_vec)\n",
    "#                                 # or 'matrices' (allowing update of P/A/q/l/u\n",
    "#                                 # through prob.update_data_vec or prob.update_data_mat)\n",
    "#     use_float=True,\n",
    "#     printing_enable=False,     # Enable solver printing?\n",
    "#     profiling_enable=False,    # Enable solver profiling?\n",
    "#     interrupt_enable=False,    # Enable user interrupt (Ctrl-C)?\n",
    "#     include_codegen_src=True,  # Include headers/sources/Makefile in the output folder,\n",
    "#                                 # creating a self-contained compilable folder?\n",
    "#     extension_name='pyosqp',   # Name of the generated python extension; generates a setup.py; Set None to skip\n",
    "#     compile=False,             # Compile the above python extension into an importable module\n",
    "#                                 # (allowing \"import pyosqp\")?\n",
    "# )\n",
    "# fmt: on\n"
   ]
  }
 ],
 "metadata": {
  "kernelspec": {
   "display_name": "tinympc",
   "language": "python",
   "name": "python3"
  },
  "language_info": {
   "codemirror_mode": {
    "name": "ipython",
    "version": 3
   },
   "file_extension": ".py",
   "mimetype": "text/x-python",
   "name": "python",
   "nbconvert_exporter": "python",
   "pygments_lexer": "ipython3",
   "version": "3.9.18"
  },
  "orig_nbformat": 4
 },
 "nbformat": 4,
 "nbformat_minor": 2
}
