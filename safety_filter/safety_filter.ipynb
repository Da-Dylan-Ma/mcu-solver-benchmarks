{
 "cells": [
  {
   "attachments": {},
   "cell_type": "markdown",
   "metadata": {},
   "source": [
    "# Predictve Safety Filter Benchmark"
   ]
  },
  {
   "attachments": {},
   "cell_type": "markdown",
   "metadata": {},
   "source": [
    "Load necessary packages, make sure to install `tinympc` ([README.md](../README.md))"
   ]
  },
  {
   "cell_type": "code",
   "execution_count": 3,
   "metadata": {},
   "outputs": [],
   "source": [
    "import tinympc\n",
    "import os\n",
    "import numpy as np"
   ]
  },
  {
   "cell_type": "code",
   "execution_count": 4,
   "metadata": {},
   "outputs": [
    {
     "name": "stdout",
     "output_type": "stream",
     "text": [
      "/home/khai/SSD/Code/mcu-solver-benchmarks/safety_filter\n"
     ]
    }
   ],
   "source": [
    "path_to_root = os.getcwd()\n",
    "print(path_to_root)"
   ]
  },
  {
   "attachments": {},
   "cell_type": "markdown",
   "metadata": {},
   "source": [
    "## Double Integrator System"
   ]
  },
  {
   "cell_type": "code",
   "execution_count": 5,
   "metadata": {},
   "outputs": [],
   "source": [
    "NSTATES = 6\n",
    "NINPUTS = 3\n",
    "NHORIZON = 30\n",
    "NTOTAL = 201\n",
    "\n",
    "# Double-integrator dynamics\n",
    "h = 0.05 #20 Hz\n",
    "temp_n = int(NSTATES/2)\n",
    "# Adyn = [I(temp_n) h*I(temp_n); zeros(temp_n,temp_n) I(temp_n)]\n",
    "# Bdyn = [0.5*h*h*I(temp_n); h*I(temp_n)];\n",
    "Adyn = np.block([[np.eye(temp_n), h*np.eye(temp_n)], [np.zeros((temp_n,temp_n)), np.eye(temp_n)]])\n",
    "Bdyn = np.block([[0.5*h*h*np.eye(temp_n)], [h*np.eye(temp_n)]])"
   ]
  },
  {
   "attachments": {},
   "cell_type": "markdown",
   "metadata": {},
   "source": [
    "## MPC Formulation for OSQP"
   ]
  },
  {
   "attachments": {},
   "cell_type": "markdown",
   "metadata": {},
   "source": [
    "## Code Generation\n",
    "\n",
    "We are done with the dynamics and LQR controller. Now, let's define the class and compile original TinyMPC code to get a generic shared/dynamic library"
   ]
  },
  {
   "attachments": {},
   "cell_type": "markdown",
   "metadata": {},
   "source": [
    "\n",
    "**PLEASE CHANGE `tinympc_python_dir` TO YOUR ABSOLUTE PATH**"
   ]
  },
  {
   "cell_type": "code",
   "execution_count": 6,
   "metadata": {},
   "outputs": [
    {
     "name": "stderr",
     "output_type": "stream",
     "text": [
      "\u001b[0mCMake Deprecation Warning at CMakeLists.txt:1 (cmake_minimum_required):\n",
      "  Compatibility with CMake < 3.5 will be removed from a future version of\n",
      "  CMake.\n",
      "\n",
      "  Update the VERSION argument <min> value or use a ...<max> suffix to tell\n",
      "  CMake that the project does not need compatibility with older versions.\n",
      "\n",
      "\u001b[0m\n"
     ]
    },
    {
     "name": "stdout",
     "output_type": "stream",
     "text": [
      "-- Configuring done (0.0s)\n",
      "-- Generating done (0.1s)\n",
      "-- Build files have been written to: /home/khai/SSD/Code/mcu-solver-benchmarks/tinympc-python/tinympc/TinyMPC/build\n",
      "[ 18%] Built target tinympc\n",
      "[ 37%] Built target tinympcShared\n",
      "[ 50%] Built target quadrotor_tracking\n",
      "[ 62%] Built target quadrotor_hovering\n",
      "[ 75%] Built target codegen_random\n",
      "[ 87%] Built target codegen_cartpole\n",
      "[100%] Built target test1\n"
     ]
    },
    {
     "data": {
      "text/plain": [
       "True"
      ]
     },
     "execution_count": 6,
     "metadata": {},
     "output_type": "execute_result"
    }
   ],
   "source": [
    "tinympc_python_dir = path_to_root + \"/../tinympc-python\"  # Your absolute path to the tinympc-python directory\n",
    "tinympc_dir = tinympc_python_dir + \"/tinympc/TinyMPC\"  # Path to the TinyMPC directory (C code)\n",
    "\n",
    "tinympc_prob = tinympc.TinyMPC()\n",
    "tinympc_prob.compile_lib(tinympc_dir)  # Compile the library (or use the binary provided)"
   ]
  },
  {
   "cell_type": "code",
   "execution_count": 7,
   "metadata": {},
   "outputs": [],
   "source": [
    "os_ext = \".so\"  # CHANGE THIS BASED ON YOUR OS\n",
    "lib_dir = tinympc_dir + \"/build/src/tinympc/libtinympcShared\" + os_ext  # Path to the compiled library\n",
    "tinympc_prob.load_lib(lib_dir)  # Load the library"
   ]
  },
  {
   "attachments": {},
   "cell_type": "markdown",
   "metadata": {},
   "source": [
    "## We generate a bunch of benchmark here with varying dimensions"
   ]
  },
  {
   "attachments": {},
   "cell_type": "markdown",
   "metadata": {},
   "source": [
    "Here we setup problem data and settings for the predictive safety filter with TinyMPC. We will put bounds on the state and input."
   ]
  },
  {
   "cell_type": "code",
   "execution_count": 8,
   "metadata": {},
   "outputs": [
    {
     "data": {
      "text/plain": [
       "True"
      ]
     },
     "execution_count": 8,
     "metadata": {},
     "output_type": "execute_result"
    }
   ],
   "source": [
    "A = Adyn.transpose().reshape((NSTATES * NSTATES)).tolist() # col-major order list\n",
    "B = Bdyn.transpose().reshape((NSTATES * NINPUTS)).tolist() # col-major order list\n",
    "Q = np.zeros(NSTATES).tolist()  # diagonal of state cost -- DON'T NEED FOR SAFETY FILTER\n",
    "R = np.ones(NINPUTS).tolist()  # diagonal of input cost\n",
    "rho = 1e2  # ADMM penalty parameter\n",
    "\n",
    "x_min = [-10.0] * NSTATES * NHORIZON           # state constraints \n",
    "x_max = [10.] * NSTATES * NHORIZON             # state constraints\n",
    "u_min = [-3] * NINPUTS * (NHORIZON - 1)      # input constraints\n",
    "u_max = [3] * NINPUTS * (NHORIZON - 1)   # input constraints\n",
    "\n",
    "abs_pri_tol = 1.0e-3    # absolute primal tolerance\n",
    "abs_dual_tol = 1.0e-3   # absolute dual tolerance\n",
    "max_iter = 100          # maximum number of iterations\n",
    "check_termination = 1   # whether to check termination and period\n",
    "\n",
    "# Setup problem data\n",
    "tinympc_prob.setup(NSTATES, NINPUTS, NHORIZON, A, B, Q, R, x_min, x_max, u_min, u_max, rho, abs_pri_tol, abs_dual_tol, max_iter, check_termination)"
   ]
  },
  {
   "attachments": {},
   "cell_type": "markdown",
   "metadata": {},
   "source": [
    "Load the generic shared/dynamic library. **You may want to change the extension of the library based on your OS -- Linux: .so, Mac: .dylib, Windows: .dll**"
   ]
  },
  {
   "attachments": {},
   "cell_type": "markdown",
   "metadata": {},
   "source": [
    "After define the problem, we generate the tailored code with above data. \n",
    "\n",
    "**Here we compile it for interactive Python script but you can use it directly for your applications/systems**"
   ]
  },
  {
   "cell_type": "code",
   "execution_count": 9,
   "metadata": {},
   "outputs": [
    {
     "name": "stdout",
     "output_type": "stream",
     "text": [
      "A = [   1,    0,    0, 0.05,    0,    0]\n",
      "[   0,    1,    0,    0, 0.05,    0]\n",
      "[   0,    0,    1,    0,    0, 0.05]\n",
      "[   0,    0,    0,    1,    0,    0]\n",
      "[   0,    0,    0,    0,    1,    0]\n",
      "[   0,    0,    0,    0,    0,    1]\n",
      "B = [0.00125,       0,       0]\n",
      "[      0, 0.00125,       0]\n",
      "[      0,       0, 0.00125]\n",
      "[   0.05,       0,       0]\n",
      "[      0,    0.05,       0]\n",
      "[      0,       0,    0.05]\n",
      "Q = [100,   0,   0,   0,   0,   0]\n",
      "[  0, 100,   0,   0,   0,   0]\n",
      "[  0,   0, 100,   0,   0,   0]\n",
      "[  0,   0,   0, 100,   0,   0]\n",
      "[  0,   0,   0,   0, 100,   0]\n",
      "[  0,   0,   0,   0,   0, 100]\n",
      "R = [101,   0,   0]\n",
      "[  0, 101,   0]\n",
      "[  0,   0, 101]\n",
      "rho = 100\n",
      "Kinf converged after 128 iterations\n",
      "Precomputing finished\n",
      "Kinf = [0.9529,      0,      0,  1.677,      0,      0]\n",
      "[     0, 0.9529,      0,      0,  1.677,      0]\n",
      "[     0,      0, 0.9529,      0,      0,  1.677]\n",
      "Pinf = [3520,    0,    0, 2010,    0,    0]\n",
      "[   0, 3520,    0,    0, 2010,    0]\n",
      "[   0,    0, 3520,    0,    0, 2010]\n",
      "[2010,    0,    0, 3539,    0,    0]\n",
      "[   0, 2010,    0,    0, 3539,    0]\n",
      "[   0,    0, 2010,    0,    0, 3539]\n",
      "Quu_inv = [0.009082,        0,        0]\n",
      "[       0, 0.009082,        0]\n",
      "[       0,        0, 0.009082]\n",
      "AmBKt = [  0.9988,        0,        0, -0.04765,        0,        0]\n",
      "[       0,   0.9988,        0,        0, -0.04765,        0]\n",
      "[       0,        0,   0.9988,        0,        0, -0.04765]\n",
      "[  0.0479,        0,        0,   0.9161,        0,        0]\n",
      "[       0,   0.0479,        0,        0,   0.9161,        0]\n",
      "[       0,        0,   0.0479,        0,        0,   0.9161]\n",
      "coeff_d2p = [ -0.000807,          0,          0]\n",
      "[         0,  -0.000807,          0]\n",
      "[         0,          0,  -0.000807]\n",
      "[-0.0009398,          0,          0]\n",
      "[         0, -0.0009398,          0]\n",
      "[         0,          0, -0.0009398]\n",
      "Data generated in /home/khai/SSD/Code/mcu-solver-benchmarks/safety_filter/tinympc_generated/src/tiny_data_workspace.cpp\n",
      "Global options generated in /home/khai/SSD/Code/mcu-solver-benchmarks/safety_filter/tinympc_generated/tinympc/glob_opts.hpp\n",
      "Example tinympc main generated in /home/khai/SSD/Code/mcu-solver-benchmarks/safety_filter/tinympc_generated/src/tiny_main.cpp\n",
      "Data header generated in /home/khai/SSD/Code/mcu-solver-benchmarks/safety_filter/tinympc_generated/tinympc/tiny_data_workspace.hpp\n",
      "Content of include folder copied from /home/khai/SSD/Code/mcu-solver-benchmarks/safety_filter/../tinympc-python/tinympc/TinyMPC/include to /home/khai/SSD/Code/mcu-solver-benchmarks/safety_filter/tinympc_generated/include\n",
      "Content of /home/khai/SSD/Code/mcu-solver-benchmarks/safety_filter/../tinympc-python/tinympc/TinyMPC/src/tinympc/admm.hpp copied to /home/khai/SSD/Code/mcu-solver-benchmarks/safety_filter/tinympc_generated/tinympc/admm.hpp\n",
      "Content of /home/khai/SSD/Code/mcu-solver-benchmarks/safety_filter/../tinympc-python/tinympc/TinyMPC/src/tinympc/admm.cpp copied to /home/khai/SSD/Code/mcu-solver-benchmarks/safety_filter/tinympc_generated/tinympc/admm.cpp\n",
      "Content of /home/khai/SSD/Code/mcu-solver-benchmarks/safety_filter/../tinympc-python/tinympc/TinyMPC/src/tinympc/types.hpp copied to /home/khai/SSD/Code/mcu-solver-benchmarks/safety_filter/tinympc_generated/tinympc/types.hpp\n",
      "Content of /home/khai/SSD/Code/mcu-solver-benchmarks/safety_filter/../tinympc-python/tinympc/TinyMPC/src/tinympc/tiny_wrapper.hpp copied to /home/khai/SSD/Code/mcu-solver-benchmarks/safety_filter/tinympc_generated/tinympc/tiny_wrapper.hpp\n",
      "Content of /home/khai/SSD/Code/mcu-solver-benchmarks/safety_filter/../tinympc-python/tinympc/TinyMPC/src/tinympc/tiny_wrapper.cpp copied to /home/khai/SSD/Code/mcu-solver-benchmarks/safety_filter/tinympc_generated/tinympc/tiny_wrapper.cpp\n",
      "-- Configuring done (0.0s)\n",
      "-- Generating done (0.0s)\n",
      "-- Build files have been written to: /home/khai/SSD/Code/mcu-solver-benchmarks/safety_filter/tinympc_generated/build\n"
     ]
    },
    {
     "name": "stderr",
     "output_type": "stream",
     "text": [
      "\u001b[0mCMake Deprecation Warning at CMakeLists.txt:5 (cmake_minimum_required):\n",
      "  Compatibility with CMake < 3.5 will be removed from a future version of\n",
      "  CMake.\n",
      "\n",
      "  Update the VERSION argument <min> value or use a ...<max> suffix to tell\n",
      "  CMake that the project does not need compatibility with older versions.\n",
      "\n",
      "\u001b[0m\n"
     ]
    },
    {
     "name": "stdout",
     "output_type": "stream",
     "text": [
      "[ 11%] \u001b[32mBuilding CXX object tinympc/CMakeFiles/tinympc.dir/admm.cpp.o\u001b[0m\n",
      "[ 22%] \u001b[32m\u001b[1mLinking CXX static library libtinympc.a\u001b[0m\n",
      "[ 22%] Built target tinympc\n",
      "[ 33%] \u001b[32mBuilding CXX object tinympc/CMakeFiles/tinympcShared.dir/admm.cpp.o\u001b[0m\n",
      "[ 44%] \u001b[32mBuilding CXX object tinympc/CMakeFiles/tinympcShared.dir/tiny_wrapper.cpp.o\u001b[0m\n",
      "[ 55%] \u001b[32mBuilding CXX object tinympc/CMakeFiles/tinympcShared.dir/__/src/tiny_data_workspace.cpp.o\u001b[0m\n",
      "[ 66%] \u001b[32m\u001b[1mLinking CXX shared library libtinympcShared.so\u001b[0m\n",
      "[ 66%] Built target tinympcShared\n",
      "[ 77%] \u001b[32mBuilding CXX object src/CMakeFiles/tiny_main.dir/tiny_main.cpp.o\u001b[0m\n",
      "[ 88%] \u001b[32mBuilding CXX object src/CMakeFiles/tiny_main.dir/tiny_data_workspace.cpp.o\u001b[0m\n",
      "[100%] \u001b[32m\u001b[1mLinking CXX executable tiny_main\u001b[0m\n",
      "[100%] Built target tiny_main\n"
     ]
    },
    {
     "data": {
      "text/plain": [
       "True"
      ]
     },
     "execution_count": 9,
     "metadata": {},
     "output_type": "execute_result"
    }
   ],
   "source": [
    "output_dir = path_to_root + \"/tinympc_generated\"  # Path to the generated code\n",
    "tinympc_prob.tiny_codegen(tinympc_dir, output_dir)  \n",
    "# You may want to check if Kinf in generated_code follows the same pattern as previous K in LQR, otherwise something is wrong\n",
    "tinympc_prob.compile_lib(output_dir)"
   ]
  },
  {
   "attachments": {},
   "cell_type": "markdown",
   "metadata": {},
   "source": [
    "## We then copy generated workspace from `tinympc_generated` to `teensy_tinympc` dir for each benchmark."
   ]
  },
  {
   "cell_type": "code",
   "execution_count": 10,
   "metadata": {},
   "outputs": [
    {
     "name": "stdout",
     "output_type": "stream",
     "text": [
      "-----------------------------------------------------------------\n",
      "           OSQP v1.0.0.beta0  -  Operator Splitting QP Solver\n",
      "              (c) Bartolomeo Stellato,  Goran Banjac\n",
      "        University of Oxford  -  Stanford University 2021\n",
      "-----------------------------------------------------------------\n",
      "problem:  variables n = 267, constraints m = 447\n",
      "          nnz(P) + nnz(A) = 1056\n",
      "settings: algebra = Built-in,\n",
      "          linear system solver = QDLDL v0.1.6,\n",
      "          eps_abs = 1.0e-03, eps_rel = 1.0e-03,\n",
      "          eps_prim_inf = 1.0e-04, eps_dual_inf = 1.0e-04,\n",
      "          rho = 1.00e+02 ,\n",
      "          sigma = 1.00e-06, alpha = 1.00, max_iter = 100\n",
      "          check_termination: on (interval 1),\n",
      "          time_limit: 1.00e+10 sec,\n",
      "          scaling: off, scaled_termination: off\n",
      "          warm starting: on, polishing: off, \n",
      "iter   objective    prim res   dual res   rho        time\n",
      "   1  -1.0297e+05   5.37e-01   5.00e+04   1.00e+02   2.92e-04s\n",
      "  13  -1.1745e+05   2.61e-03   1.44e-01   1.00e+02   7.22e-04s\n",
      "\n",
      "status:               solved\n",
      "number of iterations: 13\n",
      "optimal objective:    -117449.9760\n",
      "run time:             7.55e-04s\n",
      "optimal rho estimate: 1.83e+02\n",
      "\n",
      "[0.50008506 0.50008506 0.50008506 0.50020938 0.50020938 0.50020938\n",
      " 0.52892728 0.52892728 0.52892728 0.65028386 0.65028386 0.65028386\n",
      " 0.56527328 0.56527328 0.56527328 0.80035984 0.80035984 0.80035984\n",
      " 0.60912306 0.60912306 0.60912306 0.950437   0.950437   0.950437\n",
      " 0.66047659 0.66047659 0.66047659 1.10051502 1.10051502 1.10051502\n",
      " 0.7193338  0.7193338  0.7193338  1.25059356 1.25059356 1.25059356\n",
      " 0.78569457 0.78569457 0.78569457 1.40067229 1.40067229 1.40067229\n",
      " 0.85955878 0.85955878 0.85955878 1.5507509  1.5507509  1.5507509\n",
      " 0.94092626 0.94092626 0.94092626 1.70082905 1.70082905 1.70082905\n",
      " 1.02979679 1.02979679 1.02979679 1.85090643 1.85090643 1.85090643\n",
      " 1.12617015 1.12617015 1.12617015 2.00098272 2.00098272 2.00098272\n",
      " 1.23004607 1.23004607 1.23004607 2.15105761 2.15105761 2.15105761\n",
      " 1.34142426 1.34142426 1.34142426 2.30113079 2.30113079 2.30113079\n",
      " 1.46030438 1.46030438 1.46030438 2.45120163 2.45120163 2.45120163\n",
      " 1.58668604 1.58668604 1.58668604 2.60126856 2.60126856 2.60126856\n",
      " 1.7205688  1.7205688  1.7205688  2.7513315  2.7513315  2.7513315\n",
      " 1.86195217 1.86195217 1.86195217 2.90139037 2.90139037 2.90139037\n",
      " 2.01083569 2.01083569 2.01083569 3.05144509 3.05144509 3.05144509\n",
      " 2.16721886 2.16721886 2.16721886 3.20149561 3.20149561 3.20149561\n",
      " 2.33110118 2.33110118 2.33110118 3.3515419  3.3515419  3.3515419\n",
      " 2.50248214 2.50248214 2.50248214 3.50158393 3.50158393 3.50158393\n",
      " 2.68136123 2.68136123 2.68136123 3.65162169 3.65162169 3.65162169\n",
      " 2.86773792 2.86773792 2.86773792 3.80165518 3.80165518 3.80165518\n",
      " 3.06161169 3.06161169 3.06161169 3.95168445 3.95168445 3.95168445\n",
      " 3.26298202 3.26298202 3.26298202 4.10170951 4.10170951 4.10170951\n",
      " 3.47184837 3.47184837 3.47184837 4.25173044 4.25173044 4.25173044\n",
      " 3.68821024 3.68821024 3.68821024 4.40174729 4.40174729 4.40174729\n",
      " 3.91206708 3.91206708 3.91206708 4.55176017 4.55176017 4.55176017\n",
      " 4.14341841 4.14341841 4.14341841 4.70176917 4.70176917 4.70176917\n",
      " 4.3822637  4.3822637  4.3822637  4.85177442 4.85177442 4.85177442]\n",
      "[2.99739019 2.99739019 2.99739019 2.9975163  2.9975163  2.9975163\n",
      " 2.99764305 2.99764305 2.99764305 2.99777013 2.99777013 2.99777013\n",
      " 2.99789721 2.99789721 2.99789721 2.99802395 2.99802395 2.99802395\n",
      " 2.99815001 2.99815001 2.99815001 2.99827506 2.99827506 2.99827506\n",
      " 2.99839872 2.99839872 2.99839872 2.99852066 2.99852066 2.99852066\n",
      " 2.99864051 2.99864051 2.99864051 2.99875794 2.99875794 2.99875794\n",
      " 2.99886531 2.99886531 2.99886531 2.99894445 2.99894445 2.99894445\n",
      " 2.99902368 2.99902368 2.99902368 2.99910271 2.99910271 2.99910271\n",
      " 2.99918128 2.99918128 2.99918128 2.99925908 2.99925908 2.99925908\n",
      " 2.99933585 2.99933585 2.99933585 2.99941129 2.99941129 2.99941129\n",
      " 2.99948512 2.99948512 2.99948512 2.99955706 2.99955706 2.99955706\n",
      " 2.99962684 2.99962684 2.99962684 2.99969417 2.99969417 2.99969417\n",
      " 2.9997588  2.9997588  2.9997588  2.99982046 2.99982046 2.99982046\n",
      " 2.99987891 2.99987891 2.99987891 2.99993389 2.99993389 2.99993389\n",
      " 2.9999852  2.9999852  2.9999852 ]\n"
     ]
    },
    {
     "data": {
      "text/plain": [
       "'/home/khai/SSD/Code/mcu-solver-benchmarks/safety_filter/osqp_generated/'"
      ]
     },
     "execution_count": 10,
     "metadata": {},
     "output_type": "execute_result"
    }
   ],
   "source": [
    "import osqp\n",
    "from scipy import sparse\n",
    "\n",
    "Ad = sparse.csc_matrix(Adyn)\n",
    "Bd = sparse.csc_matrix(Bdyn)\n",
    "\n",
    "x0 = np.ones(NSTATES)*0.5\n",
    "\n",
    "Xref = np.zeros((NSTATES, NTOTAL))\n",
    "for k in range(NTOTAL):\n",
    "    Xref[0:3,k] = np.sin(1*k)*2*np.ones(temp_n)\n",
    "Uref = np.ones((NINPUTS, NTOTAL-1))*3\n",
    "\n",
    "Qnp = np.zeros((NSTATES, NSTATES))\n",
    "Rnp = 1e2*np.ones((NINPUTS, NINPUTS))\n",
    "\n",
    "# Cast MPC problem to a QP: x = (x(0),x(1),...,x(N),u(0),...,u(N-1))\n",
    "# - quadratic objective\n",
    "P = sparse.block_diag([sparse.kron(sparse.eye(NHORIZON), Qnp),\n",
    "                       sparse.kron(sparse.eye(NHORIZON-1), Rnp)], format='csc')\n",
    "# - linear objective\n",
    "q = np.hstack([np.zeros((NHORIZON)*NSTATES), np.hstack([-Rnp@Uref[:,i] for i in range(NHORIZON-1)])])\n",
    "# - linear dynamics\n",
    "Ax = sparse.kron(sparse.eye(NHORIZON),-sparse.eye(NSTATES)) + sparse.kron(sparse.eye(NHORIZON, k=-1), Ad)\n",
    "Bu = sparse.kron(sparse.vstack([sparse.csc_matrix((1, NHORIZON-1)), sparse.eye(NHORIZON-1)]), Bd)\n",
    "Aeq = sparse.hstack([Ax, Bu])\n",
    "leq = np.hstack([-x0, np.zeros((NHORIZON-1)*NSTATES)])\n",
    "ueq = leq\n",
    "\n",
    "# - input and state constraints\n",
    "xmin = x_min[0:NSTATES]\n",
    "xmax = x_max[0:NSTATES]\n",
    "umin = u_min[0:NINPUTS]\n",
    "umax = u_max[0:NINPUTS]\n",
    "Aineq = sparse.eye((NHORIZON)*NSTATES + (NHORIZON-1)*NINPUTS)\n",
    "lineq = np.hstack([np.kron(np.ones(NHORIZON), xmin), np.kron(np.ones(NHORIZON-1), umin)])\n",
    "uineq = np.hstack([np.kron(np.ones(NHORIZON), xmax), np.kron(np.ones(NHORIZON-1), umax)])\n",
    "# - OSQP constraints\n",
    "A = sparse.vstack([Aeq, Aineq], format='csc')\n",
    "l = np.hstack([leq, lineq])\n",
    "u = np.hstack([ueq, uineq])\n",
    "\n",
    "# Create an OSQP object\n",
    "osqp_prob = osqp.OSQP()\n",
    "\n",
    "# Setup workspace and change alpha parameter\n",
    "osqp_prob.setup(P, q, A, l, u, alpha=1.0, scaling=0, check_termination=check_termination, eps_abs=abs_pri_tol, eps_rel=1e-3, eps_prim_inf=1e-4, eps_dual_inf=1e-4, max_iter=max_iter, polish=False, rho=rho, adaptive_rho=False, warm_start=True)\n",
    "# prob.setup(P, q, A, l, u, warm_starting=True, polish=True)\n",
    "\n",
    "res = osqp_prob.solve()\n",
    "x = res.x[0:NSTATES*NHORIZON]\n",
    "u = res.x[NSTATES*NHORIZON:]\n",
    "print(x)\n",
    "print(u)\n",
    "\n",
    "# Generate C code\n",
    "# fmt: off\n",
    "osqp_prob.codegen(\n",
    "    path_to_root+'/osqp_generated',   # Output folder for auto-generated code\n",
    "    prefix='osqp_data_',         # Prefix for filenames and C variables; useful if generating multiple problems\n",
    "    force_rewrite=True,        # Force rewrite if output folder exists?\n",
    "    parameters='vectors',      # What do we wish to update in the generated code?\n",
    "                                # One of 'vectors' (allowing update of q/l/u through prob.update_data_vec)\n",
    "                                # or 'matrices' (allowing update of P/A/q/l/u\n",
    "                                # through prob.update_data_vec or prob.update_data_mat)\n",
    "    use_float=True,\n",
    "    printing_enable=False,     # Enable solver printing?\n",
    "    profiling_enable=False,    # Enable solver profiling?\n",
    "    interrupt_enable=False,    # Enable user interrupt (Ctrl-C)?\n",
    "    include_codegen_src=True,  # Include headers/sources/Makefile in the output folder,\n",
    "                                # creating a self-contained compilable folder?\n",
    "    extension_name='pyosqp',   # Name of the generated python extension; generates a setup.py; Set None to skip\n",
    "    compile=False,             # Compile the above python extension into an importable module\n",
    "                                # (allowing \"import pyosqp\")?\n",
    ")\n",
    "# fmt: on\n"
   ]
  }
 ],
 "metadata": {
  "kernelspec": {
   "display_name": "tinympc",
   "language": "python",
   "name": "python3"
  },
  "language_info": {
   "codemirror_mode": {
    "name": "ipython",
    "version": 3
   },
   "file_extension": ".py",
   "mimetype": "text/x-python",
   "name": "python",
   "nbconvert_exporter": "python",
   "pygments_lexer": "ipython3",
   "version": "3.9.18"
  },
  "orig_nbformat": 4
 },
 "nbformat": 4,
 "nbformat_minor": 2
}
